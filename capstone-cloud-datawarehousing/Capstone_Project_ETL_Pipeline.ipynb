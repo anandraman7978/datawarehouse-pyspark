{
 "cells": [
  {
   "cell_type": "markdown",
   "metadata": {
    "editable": true
   },
   "source": [
    "## ETL Analytics With Immigration,Temparature and Airline/Airport Data\n",
    "\n",
    "### Data Engineering Capstone Project\n",
    "\n",
    "#### Project Summary\n",
    "The capstone project aims at deriving analytics from the data loaded through ETL Process. It throws insight into the \n",
    "immigration i94 data,  airport codes/Airlines, weather patterns.\n",
    "\n",
    "#### Following are data pattern being analyzed with the ETL data.\n",
    "* Students to US from these countries\n",
    "* Airlines landing in  US ports\n",
    "* City Ports into US\n",
    "* Visa Issuing Location in US\n",
    "* Weather Trend\n",
    "* Airports Statewise in US\n",
    "\n",
    "\n",
    "#### The project follows the follow steps:\n",
    "* Step 1: Scope the Project and Gather Data\n",
    "* Step 2: Explore and Assess the Data\n",
    "* Step 3: Define the Data Model\n",
    "* Step 4: Run ETL to Model the Data\n",
    "* Step 5: Complete Project Write Up"
   ]
  },
  {
   "cell_type": "markdown",
   "metadata": {
    "editable": true
   },
   "source": [
    "### Step 1: Scope the Project and Gather Data"
   ]
  },
  {
   "cell_type": "markdown",
   "metadata": {
    "editable": true
   },
   "source": [
    "The scope of the project is the read the i94 immigration data, temparature data and Airport/Airlines details, clean the data, derive fact and dimension data models from the clean data, use ETL pipeline to load the data into fact and dimension tables, derive meaningful insights from the loaded data. The project is implemented in pyspark with the concepts learnt in Data lake section."
   ]
  },
  {
   "cell_type": "markdown",
   "metadata": {
    "editable": true
   },
   "source": [
    "#### Describe and Gather Data\n",
    "\n",
    "##### Datasets provided as a part of project:<br>\n",
    "../../data/18-83510-I94-Data-2016/i94_apr16_sub.sas7bdat  --------    US National Tourism and Trade Office.<br>\n",
    "inputs/i94cit.json              --------    i94 Country of Citizenship & Country of Residence codes.<br>   \n",
    "inputs/i94port.json             --------    US Port of Entry city names and their corresponding codes. <br>\n",
    "inputs/airport-codes_csv.csv    --------    Airport codes and corresponding cities.<br>\n",
    "inputs/world_temperature.csv    --------    Dataset contains temperature data of various cities<br>\n",
    "\n",
    "##### Customized files from various other sources<br>\n",
    "inputs/InternationalAirport.csv  --------   Airport codes taken from multiple sources<br>\n",
    "inputs/visatype2.csv             --------   US Visa types codes\t\t<br>\n",
    "inputs/airline-codes.csv         --------   Airline codes and related details\t\t\t\t\t<br>\n",
    "inputs/visapost.csv              --------   Visa issuing post<br>\n",
    "inputs/uszips.csv                --------   US Zipcodes database<br>\n",
    "inputs/us-states.csv             --------   US States code<br>"
   ]
  },
  {
   "cell_type": "markdown",
   "metadata": {
    "editable": true
   },
   "source": [
    "#### Initialize Variables"
   ]
  },
  {
   "cell_type": "code",
   "execution_count": 1,
   "metadata": {
    "editable": true
   },
   "outputs": [
    {
     "name": "stdout",
     "output_type": "stream",
     "text": [
      "Requirement already satisfied: fuzzywuzzy[speedup] in /opt/conda/lib/python3.6/site-packages (0.18.0)\n",
      "Requirement already satisfied: python-levenshtein>=0.12; extra == \"speedup\" in /opt/conda/lib/python3.6/site-packages (from fuzzywuzzy[speedup]) (0.12.0)\n",
      "Requirement already satisfied: setuptools in /opt/conda/lib/python3.6/site-packages (from python-levenshtein>=0.12; extra == \"speedup\"->fuzzywuzzy[speedup]) (38.4.0)\n"
     ]
    }
   ],
   "source": [
    "import sys\n",
    "!{sys.executable} -m pip install fuzzywuzzy[speedup]"
   ]
  },
  {
   "cell_type": "code",
   "execution_count": 2,
   "metadata": {
    "editable": true
   },
   "outputs": [],
   "source": [
    "import pandas as pd\n",
    "import os\n",
    "import glob\n",
    "import pandas as pd\n",
    "import numpy as np\n",
    "import datetime as dt\n",
    "import json\n",
    "from fuzzywuzzy import fuzz, process\n",
    "from time import time\n",
    "import configparser\n",
    "import matplotlib.pyplot as plt\n",
    "import psycopg2\n",
    "import pyspark\n",
    "from pyspark import SparkConf\n",
    "from pyspark.sql import SparkSession\n",
    "from pyspark.sql.types import StructType, StructField\n",
    "from pyspark.sql.types import StringType, IntegerType, FloatType, TimestampType, LongType, DateType, NullType\n",
    "import datetime #Required for ts conversion\n",
    "from pyspark.sql.functions import UserDefinedFunction\n",
    "from pyspark.sql.functions import *\n",
    "from pyspark.sql.functions import year, month, dayofmonth, hour, minute, second\n",
    "from pyspark.sql.functions import udf, lit, datediff, when, col"
   ]
  },
  {
   "cell_type": "code",
   "execution_count": 3,
   "metadata": {
    "editable": true
   },
   "outputs": [
    {
     "data": {
      "text/html": [
       "\n",
       "            <div>\n",
       "                <p><b>SparkSession - hive</b></p>\n",
       "                \n",
       "        <div>\n",
       "            <p><b>SparkContext</b></p>\n",
       "\n",
       "            <p><a href=\"http://5f8dcb609e9c:4040\">Spark UI</a></p>\n",
       "\n",
       "            <dl>\n",
       "              <dt>Version</dt>\n",
       "                <dd><code>v2.4.3</code></dd>\n",
       "              <dt>Master</dt>\n",
       "                <dd><code>local[*]</code></dd>\n",
       "              <dt>AppName</dt>\n",
       "                <dd><code>pyspark-shell</code></dd>\n",
       "            </dl>\n",
       "        </div>\n",
       "        \n",
       "            </div>\n",
       "        "
      ],
      "text/plain": [
       "<pyspark.sql.session.SparkSession at 0x7f896c5d9eb8>"
      ]
     },
     "execution_count": 3,
     "metadata": {},
     "output_type": "execute_result"
    }
   ],
   "source": [
    "spark = SparkSession.builder.\\\n",
    "config(\"spark.jars.packages\",\"saurfang:spark-sas7bdat:2.0.0-s_2.11\")\\\n",
    ".enableHiveSupport().getOrCreate()\n",
    "spark.sparkContext.getConf().getAll()\n",
    "spark"
   ]
  },
  {
   "cell_type": "code",
   "execution_count": 4,
   "metadata": {
    "editable": true
   },
   "outputs": [],
   "source": [
    "# Panda options\n",
    "pd.set_option('display.max_columns', None)\n",
    "pd.set_option('display.max_colwidth', 200)\n",
    "pd.set_option('display.max_rows', 100)"
   ]
  },
  {
   "cell_type": "markdown",
   "metadata": {
    "editable": true
   },
   "source": [
    "#### Common Functions"
   ]
  },
  {
   "cell_type": "code",
   "execution_count": 5,
   "metadata": {
    "editable": true
   },
   "outputs": [],
   "source": [
    "def strip_all_columns(df):\n",
    "    \"\"\"\n",
    "    Summary line.\n",
    "    Strip all columns in a dataframe\n",
    "    \n",
    "    Parameters:\n",
    "    arg1 (dataframe)\n",
    "    \n",
    "    Returns:\n",
    "    dataframe\n",
    "    \"\"\"\n",
    "    for colu in df.columns:\n",
    "        if df[colu].dtype == 'object':            \n",
    "            #print('COL = ',col,' - ',df[col].dtype)\n",
    "            #df[col] = df[col].str.strip()           \n",
    "            mask = df[colu].notnull()\n",
    "            df.loc[mask, colu] = df.loc[mask, colu].map(str.strip)            \n",
    "            #df[col] = df[col].map(str.strip)\n",
    "    return df\n",
    "\n",
    "def difference (list1, list2): \n",
    "    \"\"\"\n",
    "    Summary line. \n",
    "    Difference between two lists used to compare list of two sets of columns\n",
    "\n",
    "    Parameters: \n",
    "    arg1 (list 1)\n",
    "    arg2 (list 2)\n",
    "\n",
    "    Returns: \n",
    "    list with difference\n",
    "    \n",
    "    Sample : print(difference(keep_columns, df_jan.columns))\n",
    "    \"\"\"                \n",
    "    list_dif = [i for i in list1 + list2 if i not in list1 or i not in list2]\n",
    "    return list_dif\n",
    "\n",
    "def fuzzymatch_city_get_ratio(row):    \n",
    "    \"\"\"\n",
    "    Summary line.\n",
    "    Match city with US Cities list\n",
    "    \n",
    "    Parameters:\n",
    "    arg1 (dataframe row)\n",
    "    \n",
    "    Returns:\n",
    "    Panda series containing matched city name & score\n",
    "    \"\"\"\n",
    "    city, state_code = row['City'], row['State Code']\n",
    "    #print('City = ', city, 'State code = ',state_code)\n",
    "    cities = df_uszips.loc[df_uszips.state_id==state_code, 'city'].str.lower().unique()    \n",
    "    #print(process.extractOne(city, cities, scorer=fuzz.ratio))\n",
    "    return pd.Series(process.extractOne(city, cities, scorer=fuzz.ratio))\n",
    "def to_datetime(x):\n",
    "    try:\n",
    "        start = dt.datetime(1960, 1, 1).date()\n",
    "        return start + dt.timedelta(days=int(x))\n",
    "    except:\n",
    "        return None\n",
    "udf_to_datetime_sas = udf(lambda x: to_datetime(x), DateType())\n",
    "\n",
    "\n",
    "def to_datetimefrstr(x):\n",
    "    try:\n",
    "        return dt.datetime.strptime(x, '%m%d%Y')\n",
    "    except:\n",
    "        return None\n",
    "\n",
    "udf_to_datetimefrstr = udf(lambda x: to_datetimefrstr(x), DateType())\n",
    "\n",
    "def cdf_Ymd_to_mmddYYYY(x):\n",
    "    try:\n",
    "        return dt.datetime.strptime(x, '%Y%m%d')\n",
    "    except:\n",
    "        return None\n",
    "\n",
    "udf_cdf_Ymd_to_mmddYYYY = udf(lambda x: cdf_Ymd_to_mmddYYYY(x), DateType())\n",
    "\n",
    "def cdf_mdY_to_mmddYYYY(x):\n",
    "    try:\n",
    "        return dt.datetime.strptime(x, '%m%d%Y')\n",
    "    except:\n",
    "        return None\n",
    "\n",
    "udf_cdf_mdY_to_mmddYYYY = udf(lambda x: cdf_mdY_to_mmddYYYY(x), DateType())"
   ]
  },
  {
   "cell_type": "markdown",
   "metadata": {
    "editable": true
   },
   "source": [
    "#### Gather Data"
   ]
  },
  {
   "cell_type": "code",
   "execution_count": 6,
   "metadata": {
    "editable": true
   },
   "outputs": [],
   "source": [
    "# JSON to dictionary\n",
    "fname = 'inputs/i94cit.json'\n",
    "i94cit = json.load(open(fname))\n",
    "fname = 'inputs/i94port.json'\n",
    "i94port = json.load(open(fname))\n",
    "\n",
    "# Airport Code Table\n",
    "df_ac = pd.read_csv('inputs/airport-codes_csv.csv')\n",
    "\n",
    "# Convert JSON Dictionaries to Dataframes\n",
    "df_i94countrycode = pd.DataFrame(list(i94cit.items()), columns=['code', 'country'])\n",
    "df_USPoE = pd.DataFrame(list(i94port.items()), columns=['code', 'citystate'])\n",
    "\n",
    "# International Airports\n",
    "df_iap = pd.read_csv('inputs/InternationalAirport.csv', sep=',', encoding = \"ISO-8859-1\")\n",
    "\n",
    "# Visa Type\n",
    "df_visatype = pd.read_csv('inputs/visatype2.csv', sep='|')\n",
    "\n",
    "# World Temperature Data\n",
    "df_temper = pd.read_csv('inputs/world_temperature.csv')\n",
    "\n",
    "# Airliner Codes - Can be used join airline column in i94-immigration data\n",
    "df_alc = pd.read_csv('inputs/airline-codes.csv')\n",
    "\n",
    "# map to df_ids.visapost column\n",
    "df_visapost = pd.read_csv('inputs/visapost.csv')\n",
    "\n",
    "# US zip-codes\n",
    "df_uszips = pd.read_csv('inputs/uszips.csv')\n",
    "\n",
    "# US States\n",
    "df_USstatecode = pd.read_csv('inputs/us-states.csv')"
   ]
  },
  {
   "cell_type": "markdown",
   "metadata": {
    "editable": true
   },
   "source": [
    "\n",
    "### Step 2: Explore and Assess the Data\n",
    "#### Explore the Data & Cleaning Steps\n",
    "\n",
    "\n",
    "\n"
   ]
  },
  {
   "cell_type": "code",
   "execution_count": 7,
   "metadata": {
    "editable": true
   },
   "outputs": [],
   "source": [
    "# Read I94 SAS dataset\n",
    "from pyspark.sql import SparkSession\n",
    "spark = SparkSession.builder.\\\n",
    "config(\"spark.jars.packages\",\"saurfang:spark-sas7bdat:2.0.0-s_2.11\")\\\n",
    ".enableHiveSupport().getOrCreate()\n",
    "df_spark =spark.read.format('com.github.saurfang.sas.spark').load('../../data/18-83510-I94-Data-2016/i94_apr16_sub.sas7bdat')"
   ]
  },
  {
   "cell_type": "markdown",
   "metadata": {
    "editable": true
   },
   "source": [
    "#### i94countrycode Cleaning"
   ]
  },
  {
   "cell_type": "code",
   "execution_count": 8,
   "metadata": {
    "editable": true
   },
   "outputs": [],
   "source": [
    "temp = ['MEXICO Air Sea, and Not Reported (I-94, no land arrivals)']\n",
    "df_i94countrycode.loc[df_i94countrycode['country'].isin(temp), 'country']='MEXICO'\n",
    "df_i94countrycode = df_i94countrycode[~df_i94countrycode.country.str.lower().str.contains('invalid')]\n",
    "df_i94countrycode = df_i94countrycode[~df_i94countrycode.country.str.lower().str.contains('no country')]\n",
    "df_i94countrycode = df_i94countrycode[~df_i94countrycode.country.str.lower().str.contains('collapsed')]"
   ]
  },
  {
   "cell_type": "markdown",
   "metadata": {
    "editable": true
   },
   "source": [
    "#### USPoE Cleaning"
   ]
  },
  {
   "cell_type": "code",
   "execution_count": 9,
   "metadata": {
    "editable": true
   },
   "outputs": [],
   "source": [
    "#USPoE Cleaning\n",
    "df_USPoE[\"citystate\"] = df_USPoE[\"citystate\"].map(str.strip)\n",
    "df_USPoE[['city', 'state']] = df_USPoE['citystate'].str.rsplit(\",\",n=1, expand=True)\n",
    "df_USPoE = strip_all_columns(df_USPoE)\n",
    "df_USPoE['state'] = df_USPoE.state.str.replace(r'\\(.*\\)$', '')\n",
    "df_USPoE['state'] = df_USPoE['state'].str.replace('#ARPT', '')\n",
    "df_USPoE['state'] = df_USPoE['state'].str.replace('#INTL', '')\n",
    "df_USPoE['state'] = df_USPoE['state'].str.replace('WASHINGTON', 'WA')\n",
    "df_USPoE['state'] = df_USPoE['state'].str.replace('MX', 'MEXICO')\n",
    "df_USPoE['city'] = df_USPoE['city'].str.replace('#ARPT', '')\n",
    "df_USPoE['city'] = df_USPoE['city'].str.replace('-ARPT', '')\n",
    "df_USPoE['city'] = df_USPoE['city'].str.replace('ARPT', '')\n",
    "df_USPoE['city'] = df_USPoE['city'].str.replace('INTL', '')\n",
    "cond1 = df_USPoE.city.str.lower().str.contains('collapsed')\n",
    "df_USPoE = df_USPoE[~cond1]\n",
    "cond1 = df_USPoE.city.str.lower().str.contains('no port')\n",
    "df_USPoE = df_USPoE[~cond1]\n",
    "cond1 = df_USPoE.city.str.lower().str.contains('unknown')\n",
    "df_USPoE = df_USPoE[~cond1]\n",
    "cond1 = df_USPoE.city.str.lower().str.contains('identifi')\n",
    "df_USPoE = df_USPoE[~cond1]\n",
    "df_USPoE = df_USPoE[df_USPoE.state.str.len() == 2]\n",
    "#print(df_USPoE)"
   ]
  },
  {
   "cell_type": "markdown",
   "metadata": {
    "editable": true
   },
   "source": [
    "#### airlines code cleaning"
   ]
  },
  {
   "cell_type": "code",
   "execution_count": 10,
   "metadata": {
    "editable": true
   },
   "outputs": [],
   "source": [
    "drop_cols = ['gps_code', 'ident']\n",
    "#df_ac.drop(drop_cols, inplace = True, axis = 1)\n",
    "df_ac = df_ac[df_ac.iso_country =='US']\n",
    "temp = ['small_airport', 'medium_airport', 'large_airport']\n",
    "df_ac = df_ac[df_ac['type'].isin(temp)]\n",
    "df_ac[['longitude','latitude']] = df_ac.coordinates.str.split(\", \",expand=True)\n",
    "df_ac['state'] = df_ac.iso_region.str.slice(start=3)\n",
    "for code in df_iap['IATA']:\n",
    "    df_ac.loc[df_ac['iata_code'] == code, 'facilities'] = 'CI'\n",
    "df_ac = df_ac[df_ac.facilities.notnull()].copy()\n",
    "df_ac = df_ac[~df_ac.name.str.contains('uplicate')]\n"
   ]
  },
  {
   "cell_type": "markdown",
   "metadata": {
    "editable": true
   },
   "source": [
    "### copy dataframes for later use and conversion to spark dataframes"
   ]
  },
  {
   "cell_type": "code",
   "execution_count": 11,
   "metadata": {
    "editable": true
   },
   "outputs": [],
   "source": [
    "# Create copies of dataframe\n",
    "dfd_i94countrycode = df_i94countrycode.copy()\n",
    "# Running strip() on all string columns\n",
    "dfd_i94countrycode =strip_all_columns(df_i94countrycode).copy()\n",
    "df_i94countrycode = spark.createDataFrame(df_i94countrycode)\n",
    "df_USPoE = spark.createDataFrame(df_USPoE)\n",
    "df_ac = spark.createDataFrame(df_ac)"
   ]
  },
  {
   "cell_type": "markdown",
   "metadata": {
    "editable": true
   },
   "source": [
    "#### cleaning i94 data and building  details for fact table"
   ]
  },
  {
   "cell_type": "code",
   "execution_count": 12,
   "metadata": {
    "editable": true
   },
   "outputs": [
    {
     "name": "stdout",
     "output_type": "stream",
     "text": [
      "Total US States that has Customs & Immigration :  40\n",
      "Number of Port of Entries that needs to be deleted from df_USPoE :  102\n"
     ]
    }
   ],
   "source": [
    "# matflag is null\n",
    "df_spark = df_spark.filter(df_spark.matflag.isNotNull())\n",
    "# visatype GMT  \n",
    "df_visatype=strip_all_columns(df_visatype)\n",
    "temp = df_visatype.visatype.tolist()\n",
    "df_spark = df_spark.filter( df_spark.visatype.isin(temp) )\n",
    "# i94mode other than 1 2 3\n",
    "temp = [1, 2, 3]\n",
    "df_spark = df_spark.filter( df_spark.i94mode.isin(temp) )\n",
    "# gender is null\n",
    "df_spark = df_spark.filter(df_spark.gender.isNotNull())\n",
    "# Remove rows having invalid CoC & CoR\n",
    "temp = dfd_i94countrycode.code.astype('int').tolist()\n",
    "df_spark = df_spark.filter( df_spark.i94cit.isin(temp) )\n",
    "df_spark = df_spark.filter( df_spark.i94res.isin(temp) )\n",
    "\n",
    "\n",
    "\n",
    "# df_USPoE : Remove invalid rows & ports outside US\n",
    "df1 = df_USPoE.select('code')\n",
    "df2 = df_spark.select('i94port')\n",
    "temp = df2.subtract(df1) #.collect()\n",
    "tempArr = [row.i94port for row in temp.collect()]\n",
    "df_spark = df_spark.filter(~df_spark.i94port.isin(tempArr))\n",
    "\n",
    "\n",
    "# Delete Port of Entries which lacks International Passenger Handling Facility operated by US Customs.\n",
    "temp = df_ac.filter( df_ac.facilities.isNotNull() ).select('state').dropDuplicates()\n",
    "df1 = [row.state for row in temp.collect()]\n",
    "print('Total US States that has Customs & Immigration : ',len(df1))\n",
    "temp = df_USPoE.filter(~df_USPoE.state.isin(df1)).select('code').dropDuplicates()\n",
    "df2 = [row.code for row in temp.collect()]\n",
    "print('Number of Port of Entries that needs to be deleted from df_USPoE : ',len(df2))\n",
    "df_spark = df_spark.filter(~df_spark.i94port.isin(df2))\n",
    "\n",
    "# Dropping unused columns\n",
    "keep_columns = ['i94cit', 'i94res', 'i94port', 'arrdate', 'i94mode', 'i94addr', 'depdate'\n",
    "                , 'i94bir', 'i94visa', 'dtadfile', 'visapost', 'occup', 'biryear'\n",
    "                , 'dtaddto', 'gender', 'airline', 'admnum', 'fltno', 'visatype']\n",
    "drop_cols = difference(keep_columns, df_spark.columns)\n",
    "df_spark = df_spark.drop(*drop_cols)\n",
    "\n",
    "# Convert floats to ints\n",
    "cols_to_convert_float_to_integer = ['i94cit', 'i94res', 'arrdate', 'i94mode', 'depdate', 'i94bir'\n",
    "                                , 'i94visa', 'biryear', 'admnum']\n",
    "for colu in cols_to_convert_float_to_integer:    \n",
    "    df_spark = df_spark.na.fill(0, subset=[colu])\n",
    "    df_spark = df_spark.withColumn(colu, df_spark[colu].cast(IntegerType()))\n",
    "    \n",
    "# Mapping : Codes to descriptive\n",
    "temp = [[\"1\", \"Air\"], [\"2\", \"Sea\"], [\"3\",\"Land\"], [\"9\", \"Not reported\"]]\n",
    "i94mode = spark.sparkContext.parallelize(temp).toDF([\"code\", \"arrival_mode\"])\n",
    "df_spark = df_spark.join(i94mode, df_spark.i94mode == i94mode.code).select(df_spark[\"*\"], i94mode[\"arrival_mode\"])\n",
    "\n",
    "temp = [[\"1\", \"Business\"], [\"2\", \"Pleasure\"], [\"3\", \"Student\"]]\n",
    "i94visa = spark.sparkContext.parallelize(temp).toDF([\"code\", \"visit_purpose\"])\n",
    "df_spark = df_spark.join(i94visa, df_spark.i94visa == i94visa.code).select(df_spark[\"*\"], i94visa[\"visit_purpose\"])\n",
    "\n",
    "# Conversion of SAS encoded dates(arrdate & depdate)\n",
    "df_spark = df_spark.withColumn(\"arrival_dt\", udf_to_datetime_sas(df_spark.arrdate))\n",
    "df_spark = df_spark.withColumn(\"departure_dt\", udf_to_datetime_sas(df_spark.depdate))\n",
    "\n",
    "df_spark = df_spark.withColumn(\"DaysinUS\", datediff(\"departure_dt\", \"arrival_dt\"))\n",
    "\n",
    "df_spark = df_spark.withColumn(\"added_to_i94\", udf_cdf_Ymd_to_mmddYYYY(df_spark.dtadfile))\n",
    "df_spark = df_spark.withColumn(\"allowed_until\", udf_cdf_mdY_to_mmddYYYY(df_spark.dtaddto))\n",
    "\n",
    "# Below corrections are carried out due to above adding 1960-01-01\n",
    "df_spark = df_spark.withColumn(\"arrival_dt\",when(col(\"arrival_dt\")==\"1960-01-01\",lit(None)).otherwise(col(\"arrival_dt\")))\n",
    "df_spark = df_spark.withColumn(\"departure_dt\",when(col(\"departure_dt\")==\"1960-01-01\",lit(None)).otherwise(col(\"departure_dt\")))\n",
    "df_spark = df_spark.withColumn(\"DaysinUS\",when(col(\"arrival_dt\").isNull(),lit(None)).otherwise(col(\"DaysinUS\")))\n",
    "df_spark = df_spark.withColumn(\"DaysinUS\",when(col(\"departure_dt\").isNull(),lit(None)).otherwise(col(\"DaysinUS\")))\n",
    "\n",
    "# Columns Rename\n",
    "df_spark = (df_spark\n",
    "            .withColumnRenamed(\"i94bir\",  \"age\")\n",
    "            .withColumnRenamed(\"i94cit\", \"CoC\")\n",
    "            .withColumnRenamed(\"i94res\", \"CoR\")\n",
    "            .withColumnRenamed(\"i94port\", \"PoE\")\n",
    "            .withColumnRenamed(\"i94addr\", \"landing_state\")\n",
    "            .withColumnRenamed(\"visapost\", \"visa_issued_in\"))\n",
    "\n",
    "# Entry_Exit\n",
    "df_spark = df_spark.withColumn(\"entry_exit\",when(col(\"departure_dt\").isNull(),lit(\"entry\")).otherwise(lit(\"exit\")))\n",
    "\n",
    "# Gender X to O\n",
    "df_spark = df_spark.withColumn(\"gender\", when(col(\"gender\")==\"X\", lit(\"O\")).otherwise(col(\"gender\")))\n",
    "\n",
    "\n",
    "# Final Drop of unused columns\n",
    "drop_cols = ['i94mode', 'i94visa', 'arrdate', 'depdate', 'dtadfile', 'dtaddto']\n",
    "#print(drop_cols)\n",
    "df_spark = df_spark.drop(*drop_cols)\n",
    "\n"
   ]
  },
  {
   "cell_type": "markdown",
   "metadata": {
    "editable": true
   },
   "source": [
    "#### cleaning temparature data"
   ]
  },
  {
   "cell_type": "code",
   "execution_count": 13,
   "metadata": {
    "editable": true
   },
   "outputs": [],
   "source": [
    "#print(df_temper)\n",
    "# Keeping only USA\n",
    "df_temper = df_temper[df_temper.Country=='United States'].copy()\n",
    "\n",
    "# Rounding temperature to decimals=3 \n",
    "df_temper['AverageTemperature'] = df_temper['AverageTemperature'].round(decimals=3)\n",
    "\n",
    "# Removing missing temperatures\n",
    "df_temper = df_temper[~(df_temper.AverageTemperature.isnull())]\n",
    "\n",
    "# Eliminating the duplicates(ie., multiple locations in same city)\n",
    "df_temper = df_temper.drop_duplicates(['dt', 'City', 'Country'],keep= 'first')\n",
    "\n",
    "# Convert dt to datetime from object\n",
    "df_temper['dt'] = pd.to_datetime(df_temper.dt)"
   ]
  },
  {
   "cell_type": "markdown",
   "metadata": {
    "editable": true
   },
   "source": [
    "### Step 3: Define the Data Model\n",
    "#### 3.1 Conceptual Data Model\n",
    "\n",
    "#### <a href=\"conceptial_data_model.jpg\" style=\"color: #cc0000\">Click here for Conceptial Data Model</a>\n",
    "\n",
    "\n",
    "\n",
    "\n",
    "#### 3.2 Mapping Out Data Pipelines\n",
    "Steps necessary to pipeline the data into the chosen data model\n",
    "\n",
    "    * Wrangle and Clean the data to identify valid data.\n",
    "    * Design the conceptial data model.\n",
    "    * Run pipline to create and load the following data model\n",
    "        Dimension Tables:\n",
    "            visatype_dim,airportcode_dim,USPoE_dim,uszips_dim,i94countrycode_dim,temper_dim,worldcities_dim,alc_dim,iap_dim,\n",
    "            USstatecode_dim,visapost_dim,country_dim\n",
    "\n",
    "     * Fact Tables:\n",
    "        i94data_fact\n",
    "     * Save processed dimension and fact tables in parquet for downstream query"
   ]
  },
  {
   "cell_type": "markdown",
   "metadata": {
    "editable": true
   },
   "source": [
    "### Step 4: Run Pipelines to Model the Data \n",
    "#### 4.1 Create the data model\n",
    "Build the data pipelines to create the data model."
   ]
  },
  {
   "cell_type": "code",
   "execution_count": 14,
   "metadata": {
    "editable": true
   },
   "outputs": [
    {
     "name": "stdout",
     "output_type": "stream",
     "text": [
      "cleaned Datasets\n",
      "Datasets with no changes/updates\n"
     ]
    }
   ],
   "source": [
    "print(\"cleaned Datasets\")\n",
    "\n",
    "df_spark.createOrReplaceTempView(\"i94data_fact\")\n",
    "i94data_fact = spark.sql(\"select * from i94data_fact\")\n",
    "\n",
    "df_visatype = spark.createDataFrame(df_visatype)\n",
    "df_visatype.createOrReplaceTempView(\"visatype_dim\")\n",
    "visatype_dim = spark.sql(\"select * from visatype_dim\")\n",
    "\n",
    "df_ac.createOrReplaceTempView(\"airportcode_dim\")\n",
    "airportcode_dim = spark.sql(\"select * from airportcode_dim\")\n",
    "df_USPoE.createOrReplaceTempView(\"USPoE_dim\")\n",
    "USPoE_dim = spark.sql(\"select * from USPoE_dim\")\n",
    "\n",
    "df_uszips = spark.createDataFrame(df_uszips)\n",
    "df_uszips.createOrReplaceTempView(\"uszips_dim\")\n",
    "uszips_dim = spark.sql(\"select * from uszips_dim\")\n",
    "\n",
    "\n",
    "df_temper = spark.createDataFrame(df_temper)\n",
    "df_temper.createOrReplaceTempView(\"temper_dim\")\n",
    "temper_dim = spark.sql(\"select * from temper_dim\")\n",
    "\n",
    "\n",
    "print(\"Datasets with no changes/updates\")\n",
    "schema = StructType([StructField(\"code\", StringType(), True)\\\n",
    "                   ,StructField(\"description\",StringType(), True)])\n",
    "df_alc = spark.createDataFrame(df_alc,schema)\n",
    "df_alc.createOrReplaceTempView(\"alc_dim\")\n",
    "alc_dim = spark.sql(\"select * from alc_dim\")\n",
    "\n",
    "\n",
    "\n",
    "\n",
    "schema2 = StructType([StructField(\"code\", StringType(), True)\\\n",
    "                   ,StructField(\"state\",StringType(), True)\\\n",
    "                   ,StructField(\"status\",StringType(), True)\\\n",
    "                   ,StructField(\"Unnamed_3\",StringType(), True) ])\n",
    "\n",
    "df_USstatecode = spark.createDataFrame(df_USstatecode,schema2)\n",
    "df_USstatecode.createOrReplaceTempView(\"USstatecode_dim\")\n",
    "USstatecode_dim = spark.sql(\"select * from USstatecode_dim\")\n",
    "\n",
    "df_visapost = spark.createDataFrame(df_visapost)\n",
    "df_visapost.createOrReplaceTempView(\"visapost_dim\")\n",
    "visapost_dim = spark.sql(\"select * from visapost_dim\")\n",
    "\n",
    "df_i94countrycode.createOrReplaceTempView(\"country_dim\")\n",
    "country_dim = spark.sql(\"select * from country_dim\")"
   ]
  },
  {
   "cell_type": "code",
   "execution_count": 15,
   "metadata": {
    "editable": true
   },
   "outputs": [
    {
     "name": "stdout",
     "output_type": "stream",
     "text": [
      "root\n",
      " |-- CoC: integer (nullable = true)\n",
      " |-- CoR: integer (nullable = true)\n",
      " |-- PoE: string (nullable = true)\n",
      " |-- landing_state: string (nullable = true)\n",
      " |-- age: integer (nullable = true)\n",
      " |-- visa_issued_in: string (nullable = true)\n",
      " |-- occup: string (nullable = true)\n",
      " |-- biryear: integer (nullable = true)\n",
      " |-- gender: string (nullable = true)\n",
      " |-- airline: string (nullable = true)\n",
      " |-- admnum: integer (nullable = true)\n",
      " |-- fltno: string (nullable = true)\n",
      " |-- visatype: string (nullable = true)\n",
      " |-- arrival_mode: string (nullable = true)\n",
      " |-- visit_purpose: string (nullable = true)\n",
      " |-- arrival_dt: date (nullable = true)\n",
      " |-- departure_dt: date (nullable = true)\n",
      " |-- DaysinUS: integer (nullable = true)\n",
      " |-- added_to_i94: date (nullable = true)\n",
      " |-- allowed_until: date (nullable = true)\n",
      " |-- entry_exit: string (nullable = false)\n",
      "\n",
      "root\n",
      " |-- visatype: string (nullable = true)\n",
      " |-- description: string (nullable = true)\n",
      "\n",
      "root\n",
      " |-- code: string (nullable = true)\n",
      " |-- citystate: string (nullable = true)\n",
      " |-- city: string (nullable = true)\n",
      " |-- state: string (nullable = true)\n",
      "\n",
      "root\n",
      " |-- zip: long (nullable = true)\n",
      " |-- lat: double (nullable = true)\n",
      " |-- lng: double (nullable = true)\n",
      " |-- city: string (nullable = true)\n",
      " |-- state_id: string (nullable = true)\n",
      " |-- state_name: string (nullable = true)\n",
      " |-- zcta: boolean (nullable = true)\n",
      " |-- parent_zcta: double (nullable = true)\n",
      " |-- population: long (nullable = true)\n",
      " |-- density: double (nullable = true)\n",
      " |-- county_fips: long (nullable = true)\n",
      " |-- county_name: string (nullable = true)\n",
      " |-- all_county_weights: string (nullable = true)\n",
      " |-- imprecise: boolean (nullable = true)\n",
      " |-- military: boolean (nullable = true)\n",
      " |-- timezone: string (nullable = true)\n",
      "\n",
      "root\n",
      " |-- dt: timestamp (nullable = true)\n",
      " |-- AverageTemperature: double (nullable = true)\n",
      " |-- AverageTemperatureUncertainty: double (nullable = true)\n",
      " |-- City: string (nullable = true)\n",
      " |-- Country: string (nullable = true)\n",
      " |-- Latitude: string (nullable = true)\n",
      " |-- Longitude: string (nullable = true)\n",
      "\n",
      "root\n",
      " |-- code: string (nullable = true)\n",
      " |-- description: string (nullable = true)\n",
      "\n",
      "root\n",
      " |-- code: string (nullable = true)\n",
      " |-- state: string (nullable = true)\n",
      " |-- status: string (nullable = true)\n",
      " |-- Unnamed_3: string (nullable = true)\n",
      "\n",
      "root\n",
      " |-- location: string (nullable = true)\n",
      " |-- code: string (nullable = true)\n",
      "\n",
      "root\n",
      " |-- code: string (nullable = true)\n",
      " |-- country: string (nullable = true)\n",
      "\n"
     ]
    }
   ],
   "source": [
    "i94data_fact.printSchema()\n",
    "visatype_dim.printSchema()\n",
    "USPoE_dim.printSchema()\n",
    "uszips_dim.printSchema()\n",
    "temper_dim.printSchema()\n",
    "alc_dim.printSchema()\n",
    "USstatecode_dim.printSchema()\n",
    "visapost_dim.printSchema()\n",
    "country_dim.printSchema()"
   ]
  },
  {
   "cell_type": "code",
   "execution_count": 17,
   "metadata": {
    "editable": true
   },
   "outputs": [],
   "source": [
    "i94data_fact.write.mode(\"append\").partitionBy(\"PoE\").parquet(\"results/fact.parquet\")\n",
    "visatype_dim.write.mode(\"append\").partitionBy(\"visatype\").parquet(\"results/visatype.parquet\")\n",
    "df_ac.write.mode(\"append\").parquet(\"results/airportcode.parquet\")\n",
    "USPoE_dim.write.mode(\"append\").parquet(\"results/USPoE.parquet\")\n",
    "uszips_dim.write.mode(\"append\").parquet(\"results/uszips.parquet\")\n",
    "temper_dim.write.mode(\"append\").parquet(\"results/temper.parquet\")\n",
    "alc_dim.write.mode(\"append\").parquet(\"results/airlinecode.parquet\")\n",
    "USstatecode_dim.write.mode(\"append\").parquet(\"results/USstatecode.parquet\")\n",
    "visapost_dim.write.mode(\"append\").parquet(\"results/visapost.parquet\")\n",
    "country_dim.write.mode(\"append\").parquet(\"results/i94countrycode.parquet\")\n"
   ]
  },
  {
   "cell_type": "code",
   "execution_count": 18,
   "metadata": {
    "editable": true
   },
   "outputs": [
    {
     "name": "stdout",
     "output_type": "stream",
     "text": [
      "+--------------+--------+\n",
      "|       country|visitors|\n",
      "+--------------+--------+\n",
      "|    CHINA, PRC|    7711|\n",
      "|        MEXICO|    1536|\n",
      "|        BRAZIL|    1226|\n",
      "|         JAPAN|    1224|\n",
      "|  SAUDI ARABIA|    1101|\n",
      "|         INDIA|     917|\n",
      "|        TAIWAN|     729|\n",
      "|     VENEZUELA|     637|\n",
      "|        FRANCE|     551|\n",
      "|UNITED KINGDOM|     512|\n",
      "+--------------+--------+\n",
      "\n"
     ]
    }
   ],
   "source": [
    "#Top Students travelling to US from other countries:\n",
    "spark.sql(\"SELECT  country_dim.country as country ,count(i94data_fact.visatype) as visitors FROM i94data_fact inner join country_dim on i94data_fact.COC=country_dim.code where i94data_fact.visatype in ('F1','F2','F3') group by country_dim.country order by count(i94data_fact.visatype) desc limit 10\").show()\n"
   ]
  },
  {
   "cell_type": "code",
   "execution_count": 20,
   "metadata": {
    "editable": true
   },
   "outputs": [
    {
     "name": "stdout",
     "output_type": "stream",
     "text": [
      "+--------------+--------+\n",
      "|       country|visitors|\n",
      "+--------------+--------+\n",
      "|    CHINA, PRC|    7711|\n",
      "|        MEXICO|    1536|\n",
      "|        BRAZIL|    1226|\n",
      "|         JAPAN|    1224|\n",
      "|  SAUDI ARABIA|    1101|\n",
      "|         INDIA|     917|\n",
      "|        TAIWAN|     729|\n",
      "|     VENEZUELA|     637|\n",
      "|        FRANCE|     551|\n",
      "|UNITED KINGDOM|     512|\n",
      "+--------------+--------+\n",
      "\n"
     ]
    }
   ],
   "source": [
    "#Top Airlines landing in US ports\n",
    "spark.sql(\"SELECT  country_dim.country as country ,count(i94data_fact.visatype) as visitors FROM i94data_fact inner join country_dim on i94data_fact.COC=country_dim.code where i94data_fact.visatype in ('F1','F2','F3') group by country_dim.country order by count(i94data_fact.visatype) desc limit 10\").show()"
   ]
  },
  {
   "cell_type": "code",
   "execution_count": 22,
   "metadata": {
    "editable": true
   },
   "outputs": [
    {
     "name": "stdout",
     "output_type": "stream",
     "text": [
      "+--------------+--------+\n",
      "|      location|visitors|\n",
      "+--------------+--------+\n",
      "|   Mexico City|   77173|\n",
      "|     Sao Paulo|   60445|\n",
      "|  Buenos Aires|   59953|\n",
      "|        Bogota|   42383|\n",
      "|     Guangzhou|   41271|\n",
      "|       Caracas|   33004|\n",
      "|      Shanghai|   32431|\n",
      "|       Beijing|   32294|\n",
      "|   Guadalajara|   27770|\n",
      "|Rio de Janeiro|   27517|\n",
      "+--------------+--------+\n",
      "\n"
     ]
    }
   ],
   "source": [
    "#Top Visa Issuing locations into US\n",
    "spark.sql(\"SELECT  visapost_dim.location as location,count(i94data_fact.visa_issued_in) as visitors FROM i94data_fact inner join visapost_dim on i94data_fact.visa_issued_in=visapost_dim.code group by visapost_dim.location order by count(i94data_fact.visa_issued_in)  desc limit 10\").show()"
   ]
  },
  {
   "cell_type": "code",
   "execution_count": 23,
   "metadata": {
    "editable": true
   },
   "outputs": [
    {
     "name": "stdout",
     "output_type": "stream",
     "text": [
      "+----------------------+-----------------------+\n",
      "|year(CAST(dt AS DATE))|avg(AverageTemperature)|\n",
      "+----------------------+-----------------------+\n",
      "|                  1743|                  2.208|\n",
      "|                  1744|     10.916624999999993|\n",
      "|                  1745|    -0.8017499999999991|\n",
      "|                  1750|      9.082818181818183|\n",
      "|                  1751|               9.767625|\n",
      "|                  1752|      1.694499999999999|\n",
      "|                  1753|       8.50091666666667|\n",
      "|                  1754|      8.725555555555554|\n",
      "|                  1755|      5.585399999999998|\n",
      "|                  1756|      9.068333333333337|\n",
      "|                  1757|     7.9220000000000015|\n",
      "|                  1758|                7.08175|\n",
      "|                  1759|      8.027749999999996|\n",
      "|                  1760|      6.438181818181816|\n",
      "|                  1761|      8.991909090909088|\n",
      "|                  1762|      8.521600000000001|\n",
      "|                  1763|      6.080899999999999|\n",
      "|                  1764|      8.527099999999997|\n",
      "|                  1765|     7.8989090909090915|\n",
      "|                  1766|       8.98958333333333|\n",
      "+----------------------+-----------------------+\n",
      "only showing top 20 rows\n",
      "\n"
     ]
    }
   ],
   "source": [
    "#Temparature Trend of a City\n",
    "spark.sql(\"select year(dt),avg(AverageTemperature) from temper_dim inner join uszips_dim on temper_dim.city=uszips_dim.city where temper_dim.city='Ann Arbor' group by year(dt) order by year(dt)\").show()"
   ]
  },
  {
   "cell_type": "code",
   "execution_count": 27,
   "metadata": {
    "editable": true
   },
   "outputs": [
    {
     "name": "stdout",
     "output_type": "stream",
     "text": [
      "+-------------+--------+\n",
      "|        state|visitors|\n",
      "+-------------+--------+\n",
      "|      Florida|  463380|\n",
      "|     New York|  402982|\n",
      "|   California|  332854|\n",
      "|       Hawaii|  116738|\n",
      "|        Texas|   96538|\n",
      "|       Nevada|   86689|\n",
      "|     Illinois|   53710|\n",
      "|   New Jersey|   53353|\n",
      "|Massachusetts|   43215|\n",
      "|   Washington|   34206|\n",
      "+-------------+--------+\n",
      "\n"
     ]
    }
   ],
   "source": [
    "#Most Visited State in US:\n",
    "spark.sql(\"select state,count(i94data_fact.visatype) as visitors FROM i94data_fact inner join USstatecode_dim on i94data_fact.landing_state= USstatecode_dim.code group by state order by count(i94data_fact.visatype) desc limit 10 \").show()"
   ]
  },
  {
   "cell_type": "markdown",
   "metadata": {
    "editable": true
   },
   "source": [
    "#### 4.2 Data Quality Checks\n",
    "Explain the data quality checks you'll perform to ensure the pipeline ran as expected. These could include:\n",
    " * Integrity constraints on the relational database (e.g., unique key, data type, etc.)\n",
    " * Unit tests for the scripts to ensure they are doing the right thing\n",
    " * Source/Count checks to ensure completeness\n",
    " \n",
    "Run Quality Checks"
   ]
  },
  {
   "cell_type": "code",
   "execution_count": 18,
   "metadata": {
    "editable": true
   },
   "outputs": [
    {
     "name": "stdout",
     "output_type": "stream",
     "text": [
      "data quality check passed\n",
      "dimension tables and fact table exist\n",
      "\n"
     ]
    }
   ],
   "source": [
    "# Perform existance of dimension and fact tables\n",
    "\n",
    "def qc_df(df):\n",
    "    if df is not None:\n",
    "        return True\n",
    "    else:\n",
    "        return False\n",
    "        \n",
    "if qc_df(i94data_fact) & qc_df(visatype_dim) & qc_df(USPoE_dim) &  qc_df(uszips_dim) & qc_df(temper_dim) & qc_df(alc_dim)  & qc_df(df_visapost) &  qc_df(USstatecode_dim) & qc_df(visapost_dim) & qc_df(country_dim):\n",
    "    print(\"data quality check passed\")\n",
    "    print(\"dimension tables and fact table exist\")\n",
    "    print()\n",
    "else:\n",
    "    print(\"data quality check failed\")\n",
    "    print(\"table missing...\")"
   ]
  },
  {
   "cell_type": "code",
   "execution_count": 19,
   "metadata": {
    "editable": true
   },
   "outputs": [
    {
     "name": "stdout",
     "output_type": "stream",
     "text": [
      "data quality check passed!\n",
      "dimension tables and fact table contain records\n",
      "\n"
     ]
    }
   ],
   "source": [
    "# Perform non zero record count check\n",
    "\n",
    "def qc_records(df):\n",
    "    return df.count() != 0 \n",
    "\n",
    "if qc_records(i94data_fact) & qc_records(visatype_dim) & qc_records(USPoE_dim) &  qc_records(uszips_dim) & qc_records(temper_dim) & qc_records(alc_dim)  & qc_records(df_visapost) &  qc_records(USstatecode_dim) & qc_records(visapost_dim) & qc_records(country_dim):\n",
    "    print(\"data quality check passed!\")\n",
    "    print(\"dimension tables and fact table contain records\")\n",
    "    print()\n",
    "else:\n",
    "    print(\"data quality check failed!\")\n",
    "    print(\"null records...\")"
   ]
  },
  {
   "cell_type": "markdown",
   "metadata": {
    "editable": true
   },
   "source": [
    "#### 4.3 Data dictionary \n",
    "### <a href=\"dictionary.txt\" style=\"color: #cc0000\">Click here for Data Dictionary</a>"
   ]
  },
  {
   "cell_type": "markdown",
   "metadata": {
    "editable": true
   },
   "source": [
    "#### 4.4 Basic Data Visualization"
   ]
  },
  {
   "cell_type": "code",
   "execution_count": 20,
   "metadata": {
    "editable": true
   },
   "outputs": [
    {
     "data": {
      "text/plain": [
       "Text(0.5,1,'Top Students to US are from these countries')"
      ]
     },
     "execution_count": 20,
     "metadata": {},
     "output_type": "execute_result"
    },
    {
     "data": {
      "image/png": "[encoded data removed]",
      "text/plain": [
       "<matplotlib.figure.Figure at 0x7f07c18657f0>"
      ]
     },
     "metadata": {
      "needs_background": "light"
     },
     "output_type": "display_data"
    }
   ],
   "source": [
    "df_student =spark.sql(\"SELECT  country_dim.country as country ,count(i94data_fact.visatype) as visitors FROM i94data_fact inner join country_dim on i94data_fact.COC=country_dim.code where i94data_fact.visatype in ('F1','F2','F3') group by country_dim.country order by count(i94data_fact.visatype) desc limit 10\").toPandas()\n",
    "graph = df_student[['country','visitors']].plot(x='country',kind='bar', figsize=(15,5))\n",
    "plt.xlabel('Country')\n",
    "plt.title('Top Students to US are from these countries')\n"
   ]
  },
  {
   "cell_type": "code",
   "execution_count": 21,
   "metadata": {
    "editable": true
   },
   "outputs": [
    {
     "data": {
      "text/plain": [
       "Text(0.5,1,'Top Tourist to US are from these countries')"
      ]
     },
     "execution_count": 21,
     "metadata": {},
     "output_type": "execute_result"
    },
    {
     "data": {
      "image/png": "[encoded data removed]",
      "text/plain": [
       "<matplotlib.figure.Figure at 0x7f07996906a0>"
      ]
     },
     "metadata": {
      "needs_background": "light"
     },
     "output_type": "display_data"
    }
   ],
   "source": [
    "df_visitor =spark.sql(\"SELECT  country_dim.country as country,count(i94data_fact.visatype) as visitors FROM i94data_fact inner join country_dim on i94data_fact.COC=country_dim.code where i94data_fact.visatype in ('B1','B2') group by country_dim.country order by count(i94data_fact.visatype) desc limit 10\").toPandas()\n",
    "graph = df_visitor[['country','visitors']].plot(x='country',kind='bar', figsize=(15,5))\n",
    "plt.xlabel('Country')\n",
    "plt.title('Top Tourist to US are from these countries')"
   ]
  },
  {
   "cell_type": "code",
   "execution_count": 22,
   "metadata": {
    "editable": true
   },
   "outputs": [
    {
     "data": {
      "text/plain": [
       "Text(0.5,1,'Top Airlines to US')"
      ]
     },
     "execution_count": 22,
     "metadata": {},
     "output_type": "execute_result"
    },
    {
     "data": {
      "image/png": "[encoded data removed]",
      "text/plain": [
       "<matplotlib.figure.Figure at 0x7f0793e44320>"
      ]
     },
     "metadata": {
      "needs_background": "light"
     },
     "output_type": "display_data"
    }
   ],
   "source": [
    "df_airline =spark.sql(\"SELECT  alc_dim.description as airline,count(i94data_fact.airline) as visitors FROM i94data_fact inner join alc_dim on i94data_fact.airline=alc_dim.code group by alc_dim.description order by count(i94data_fact.airline) desc limit 10\").toPandas()\n",
    "graph = df_airline[['airline','visitors']].plot(x='airline',kind='bar', figsize=(15,5))\n",
    "plt.xlabel('Airlines')\n",
    "plt.title('Top Airlines to US')"
   ]
  },
  {
   "cell_type": "code",
   "execution_count": 23,
   "metadata": {
    "editable": true
   },
   "outputs": [
    {
     "data": {
      "text/plain": [
       "Text(0.5,1,'Top City Ports into US')"
      ]
     },
     "execution_count": 23,
     "metadata": {},
     "output_type": "execute_result"
    },
    {
     "data": {
      "image/png": "[encoded data removed]",
      "text/plain": [
       "<matplotlib.figure.Figure at 0x7f079823b7f0>"
      ]
     },
     "metadata": {
      "needs_background": "light"
     },
     "output_type": "display_data"
    }
   ],
   "source": [
    "df_poe =spark.sql(\"SELECT  USPoE_dim.city as city,count(i94data_fact.PoE) as visitors FROM i94data_fact inner join USPoE_dim on i94data_fact.PoE=USPoE_dim.code group by USPoE_dim.city order by count(i94data_fact.PoE) desc limit 10\").toPandas()\n",
    "graph = df_poe[['city','visitors']].plot(x='city',kind='bar', figsize=(15,5))\n",
    "plt.xlabel('Port Of Entry')\n",
    "plt.title('Top City Ports into US')"
   ]
  },
  {
   "cell_type": "code",
   "execution_count": 24,
   "metadata": {
    "editable": true
   },
   "outputs": [
    {
     "data": {
      "text/plain": [
       "Text(0.5,1,'Top Visa Issuing Location into US')"
      ]
     },
     "execution_count": 24,
     "metadata": {},
     "output_type": "execute_result"
    },
    {
     "data": {
      "image/png": "[encoded data removed]",
      "text/plain": [
       "<matplotlib.figure.Figure at 0x7f0793c9be48>"
      ]
     },
     "metadata": {
      "needs_background": "light"
     },
     "output_type": "display_data"
    }
   ],
   "source": [
    "df_vpost =spark.sql(\"SELECT  visapost_dim.location as location,count(i94data_fact.visa_issued_in) as visitors FROM i94data_fact inner join visapost_dim on i94data_fact.visa_issued_in=visapost_dim.code group by visapost_dim.location order by count(i94data_fact.visa_issued_in)  desc limit 10\").toPandas()\n",
    "graph = df_vpost[['location','visitors']].plot(x='location',kind='bar', figsize=(15,5))\n",
    "plt.xlabel('Visa Issued')\n",
    "plt.title('Top Visa Issuing Location into US')\n"
   ]
  },
  {
   "cell_type": "code",
   "execution_count": 25,
   "metadata": {
    "editable": true
   },
   "outputs": [
    {
     "data": {
      "text/plain": [
       "Text(0.5,1,'Top # Airports Statewise in US')"
      ]
     },
     "execution_count": 25,
     "metadata": {},
     "output_type": "execute_result"
    },
    {
     "data": {
      "image/png": "[encoded data removed]",
      "text/plain": [
       "<matplotlib.figure.Figure at 0x7f0798790940>"
      ]
     },
     "metadata": {
      "needs_background": "light"
     },
     "output_type": "display_data"
    }
   ],
   "source": [
    "df_airportcode =spark.sql(\"select USstatecode_dim.state as state,count(iata_code) as airports from airportcode_dim inner join USstatecode_dim on airportcode_dim.state=USstatecode_dim.code group by USstatecode_dim.state order by count(iata_code) desc limit 10\").toPandas()\n",
    "graph = df_airportcode[['state','airports']].plot(x='state',kind='bar', figsize=(15,5))\n",
    "plt.xlabel('# Airport Statewise')\n",
    "plt.title('Top # Airports Statewise in US')"
   ]
  },
  {
   "cell_type": "code",
   "execution_count": 26,
   "metadata": {
    "editable": true
   },
   "outputs": [
    {
     "data": {
      "text/plain": [
       "Text(0.5,1,'Weather Trend')"
      ]
     },
     "execution_count": 26,
     "metadata": {},
     "output_type": "execute_result"
    },
    {
     "data": {
      "image/png": "[encoded data removed]",
      "text/plain": [
       "<matplotlib.figure.Figure at 0x7f0798257c50>"
      ]
     },
     "metadata": {
      "needs_background": "light"
     },
     "output_type": "display_data"
    }
   ],
   "source": [
    "import matplotlib.pyplot as plt\n",
    "df_temp =spark.sql(\"select year(dt),avg(AverageTemperature) from temper_dim inner join uszips_dim on temper_dim.city=uszips_dim.city where temper_dim.city='Ann Arbor' group by year(dt) order by year(dt) \").toPandas()\n",
    "plt.rcParams['figure.figsize'] = [15, 7]\n",
    "x = df_temp.iloc[:,0].tolist()\n",
    "y = df_temp.iloc[:,1].tolist()\n",
    "plt.plot(x, y, ':', label=f'Ann Arbor - 20 Year Avg',color='red')\n",
    "plt.xlabel('Year')\n",
    "plt.ylabel('Temperature [C]')\n",
    "plt.title('Weather Trend')"
   ]
  },
  {
   "cell_type": "markdown",
   "metadata": {
    "editable": true
   },
   "source": []
  },
  {
   "cell_type": "markdown",
   "metadata": {
    "editable": true
   },
   "source": [
    "#### Step 5: Complete Project Write Up\n",
    "* Clearly state the rationale for the choice of tools and technologies for the project.\n",
    "\n",
    "PySpark is chosen for this project due to the following reasons    \n",
    "* scale easily with additional worker nodes\n",
    "* with ability to digest different data formats (e.g. SAS, Parquet, CSV)\n",
    "* integration with cloud storage like S3 and warehouse like Redshift.\n",
    "* Spark SQL was chosen to process the large input files into dataframes, crate tables and manipulated via standard SQL operations\n",
    "* processing large amount of data fast (with in-memory compute) \n",
    "  \n",
    "The captone project aims at developing ETL pipeline to organize and load the data into dimension and fact modelled tables from i94 immigration data, temparature data,Airport/Airlines and reference tables. The organized data will help in deriving \n",
    "* Pattern of the immigrants entering into USA, \n",
    "* Temparature patterns of various cities in USA which will help airlines to predict unusualy climate trends\n",
    "* Trend of Airlines landing in the US Ports.\n",
    "<a href=\"queries.txt\" style=\"color: #cc0000\">Click here for queries to derive data insights</a>\n",
    "\n",
    "\n",
    "* Propose how often the data should be updated and why.\n",
    "\n",
    "Data Updates are usually dependent on two critical factor. How often the business needs the data and the availability of the new data into the system.  i94data SAS data is likely to change frequently whereas the remaining tables may be more static reference tables and less likely to change frequently. Temparature data is likely to change every month. Given the scenerio data updates can be done weekly and reports generated on the monday to see any change in data.\n",
    "\n",
    "* Write a description of how you would approach the problem differently under the following scenarios:\n",
    " * The data was increased by 100x.\n",
    "     Some of options that can be considered to improve performance if the data increases 100 x\n",
    "     * Store the data in S3 in parquet format which is a columnar data storage.\n",
    "     * Processing the data on EMR cluster which gives the option to scale the platform according to the need\n",
    "     * Moving Spark to cluster mode using a cluster manager such as Yarn.\n",
    "     * Changing the data as increamental updates instead of full refresh.     \n",
    "\n",
    " * The data populates a dashboard that must be updated on a daily basis by 7am every day.\n",
    "     * We can consider using Airflow to schedule and automate the data pipeline jobs. Built-in retry and monitoring mechanism can enable us to meet user requirement.\n",
    " * The database needed to be accessed by 100+ people.\n",
    "     * We can consider hosting our solution in production scale data warehouse in the cloud like redshift, with larger capacity to serve more users, and workload management to ensure equitable usage of resources across users.\n",
    " "
   ]
  },
  {
   "cell_type": "code",
   "execution_count": null,
   "metadata": {
    "editable": true
   },
   "outputs": [],
   "source": []
  },
  {
   "cell_type": "code",
   "execution_count": null,
   "metadata": {
    "editable": true
   },
   "outputs": [],
   "source": []
  },
  {
   "cell_type": "code",
   "execution_count": null,
   "metadata": {
    "editable": true
   },
   "outputs": [],
   "source": []
  },
  {
   "cell_type": "code",
   "execution_count": null,
   "metadata": {
    "editable": true
   },
   "outputs": [],
   "source": []
  },
  {
   "cell_type": "code",
   "execution_count": null,
   "metadata": {
    "editable": true
   },
   "outputs": [],
   "source": []
  },
  {
   "cell_type": "code",
   "execution_count": null,
   "metadata": {
    "editable": true
   },
   "outputs": [],
   "source": []
  }
 ],
 "metadata": {
  "kernelspec": {
   "display_name": "Python 3",
   "language": "python",
   "name": "python3"
  },
  "language_info": {
   "codemirror_mode": {
    "name": "ipython",
    "version": 3
   },
   "file_extension": ".py",
   "mimetype": "text/x-python",
   "name": "python",
   "nbconvert_exporter": "python",
   "pygments_lexer": "ipython3",
   "version": "3.6.3"
  }
 },
 "nbformat": 4,
 "nbformat_minor": 4
}
